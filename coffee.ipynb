{
 "cells": [
  {
   "cell_type": "code",
   "execution_count": 1,
   "metadata": {},
   "outputs": [],
   "source": [
    "import json, requests\n",
    "url = 'https://api.foursquare.com/v2/venues/explore'"
   ]
  },
  {
   "cell_type": "code",
   "execution_count": 40,
   "metadata": {},
   "outputs": [],
   "source": [
    "params = dict(\n",
    "  client_id='2FKEDA4NFT0JYU5DK2EVKMRPW0GJ5OIFPWXVGRP2Q3BQ42ZD',\n",
    "  client_secret='0VKYOUQ4GZFWT42DVZY2AQWN0ZYDILFAS1GHHSYXGRT5GTGP',\n",
    "  v='20180323',\n",
    "  ll='49.8397,24.0297',\n",
    "  query='coffee',\n",
    "  radius=2500,\n",
    "  limit=10000\n",
    ")"
   ]
  },
  {
   "cell_type": "code",
   "execution_count": 41,
   "metadata": {},
   "outputs": [],
   "source": [
    "resp = requests.get(url=url, params=params)\n",
    "data = json.loads(resp.text)"
   ]
  },
  {
   "cell_type": "code",
   "execution_count": 42,
   "metadata": {},
   "outputs": [],
   "source": [
    "from pprint import pprint\n",
    "fq_items = data[\"response\"][\"groups\"][0][\"items\"]\n",
    "places = [item[\"venue\"] for item in fq_items]\n",
    "# pprint(places[0][\"venue\"])\n",
    "# pprint(places[0])\n",
    "coffee_shops = []\n",
    "for item in places:\n",
    "    name = item[\"name\"]\n",
    "    address = item[\"location\"][\"address\"] if item[\"location\"].get(\"address\") else \"\"\n",
    "    lat = item[\"location\"][\"lat\"]\n",
    "    lng = item[\"location\"][\"lng\"]\n",
    "    coffee_shops.append({\n",
    "        \"name\": name,\n",
    "        \"address\": address,\n",
    "        \"lat\": lat,\n",
    "        \"lng\": lng,\n",
    "    })"
   ]
  },
  {
   "cell_type": "code",
   "execution_count": 46,
   "metadata": {},
   "outputs": [],
   "source": [
    "import folium\n",
    "from folium.plugins import HeatMap"
   ]
  },
  {
   "cell_type": "code",
   "execution_count": 47,
   "metadata": {},
   "outputs": [
    {
     "data": {
      "text/plain": [
       "<folium.plugins.heat_map.HeatMap at 0x11813b7d0>"
      ]
     },
     "execution_count": 47,
     "metadata": {},
     "output_type": "execute_result"
    }
   ],
   "source": [
    "lviv_coffee_shops = folium.Map(location=[\"49.8397\", \"24.0297\"], zoom_start=14)\n",
    "#for item in coffee_shops:\n",
    "#    folium.CircleMarker(\n",
    "#        [item[\"lat\"], item[\"lng\"]],\n",
    "#        radius=3,\n",
    "#        color='blue',\n",
    "#        fill=True,\n",
    "#        fill_color='#3186cc',\n",
    "#        fill_opacity=0.3,\n",
    "#        parse_html=False).add_to(map_clusters)\n",
    "heat_data = [[item[\"lat\"], item[\"lng\"]] for item in coffee_shops]\n",
    "\n",
    "# Plot it on the map\n",
    "HeatMap(heat_data).add_to(lviv_coffee_shops)"
   ]
  },
  {
   "cell_type": "code",
   "execution_count": 49,
   "metadata": {},
   "outputs": [
    {
     "data": {
      "text/html": [
       "<div style=\"width:100%;\"><div style=\"position:relative;width:100%;height:0;padding-bottom:60%;\"><iframe src=\"data:text/html;charset=utf-8;base64,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\" style=\"position:absolute;width:100%;height:100%;left:0;top:0;border:none !important;\" allowfullscreen webkitallowfullscreen mozallowfullscreen></iframe></div></div>"
      ],
      "text/plain": [
       "<folium.folium.Map at 0x118c9fe10>"
      ]
     },
     "execution_count": 49,
     "metadata": {},
     "output_type": "execute_result"
    }
   ],
   "source": [
    "lviv_coffee_shops"
   ]
  },
  {
   "cell_type": "code",
   "execution_count": null,
   "metadata": {},
   "outputs": [],
   "source": []
  }
 ],
 "metadata": {
  "kernelspec": {
   "display_name": "Python 3",
   "language": "python",
   "name": "python3"
  },
  "language_info": {
   "codemirror_mode": {
    "name": "ipython",
    "version": 3
   },
   "file_extension": ".py",
   "mimetype": "text/x-python",
   "name": "python",
   "nbconvert_exporter": "python",
   "pygments_lexer": "ipython3",
   "version": "3.7.5"
  }
 },
 "nbformat": 4,
 "nbformat_minor": 2
}
